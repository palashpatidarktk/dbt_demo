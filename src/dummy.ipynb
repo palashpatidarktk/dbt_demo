{
 "cells": [
  {
   "cell_type": "code",
   "execution_count": 0,
   "metadata": {
    "application/vnd.databricks.v1+cell": {
     "cellMetadata": {},
     "inputWidgets": {},
     "nuid": "ec1bfeca-ba64-4255-b259-c389df2a41cb",
     "showTitle": false,
     "title": ""
    }
   },
   "outputs": [],
   "source": [
    "print('hi')"
   ]
  }
 ],
 "metadata": {
  "application/vnd.databricks.v1+notebook": {
   "dashboards": [],
   "environmentMetadata": null,
   "language": "python",
   "notebookMetadata": {
    "pythonIndentUnit": 4
   },
   "notebookName": "dummy",
   "widgets": {}
  }
 },
 "nbformat": 4,
 "nbformat_minor": 0
}
