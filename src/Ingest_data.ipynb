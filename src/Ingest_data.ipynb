{
 "cells": [
  {
   "cell_type": "code",
   "execution_count": 0,
   "metadata": {
    "application/vnd.databricks.v1+cell": {
     "cellMetadata": {},
     "inputWidgets": {},
     "nuid": "3dcfd3d7-31e9-4076-81be-8684981eb322",
     "showTitle": false,
     "title": ""
    }
   },
   "outputs": [],
   "source": [
    "pip install aiohttp"
   ]
  },
  {
   "cell_type": "code",
   "execution_count": 0,
   "metadata": {
    "application/vnd.databricks.v1+cell": {
     "cellMetadata": {
      "byteLimit": 2048000,
      "rowLimit": 10000
     },
     "inputWidgets": {},
     "nuid": "bc9610d0-244a-41c5-966e-e3e39ad83256",
     "showTitle": false,
     "title": ""
    }
   },
   "outputs": [],
   "source": [
    "import asyncio\n",
    "import aiohttp\n",
    "import requests\n",
    "import time\n",
    "from pyspark.sql.functions import col, explode, struct\n",
    "from pyspark.sql.types import StructType, StructField, StringType, IntegerType\n",
    "\n",
    "# fetching object name which we want to fetch from API\n",
    "#id = dbutils.widgets.get(\"name\")\n",
    "id=6\n",
    "\n",
    "\n",
    "# defining Schema\n",
    "schema = StructType([\n",
    "    StructField(\"userId\", IntegerType(), True),\n",
    "    StructField(\"id\", IntegerType(), True),\n",
    "    StructField(\"title\", StringType(), True),\n",
    "    StructField(\"body\", StringType(), True)\n",
    "])\n",
    "\n",
    "\n",
    "id_str=str(id)\n",
    "\n",
    "# request for the data\n",
    "resp = requests.get(f\"https://jsonplaceholder.typicode.com/posts/{id_str}\").json()\n",
    "\n",
    "# # create the df from the response\n",
    "df=spark.createDataFrame([resp],schema)\n",
    "\n",
    "# # append to respective Volumne folder for each object.\n",
    "df.write.format('json').mode('append').save(f\"/Volumes/satya_test/dlt_test_incr_load/full_load/data/\")\n",
    "\n",
    "\n",
    "\n"
   ]
  }
 ],
 "metadata": {
  "application/vnd.databricks.v1+notebook": {
   "dashboards": [],
   "environmentMetadata": {
    "base_environment": "/Workspace/Users/palash.patidar@koantekorg.onmicrosoft.com/Dummy_Load_demo/requirements.yaml",
    "client": "1"
   },
   "language": "python",
   "notebookMetadata": {
    "pythonIndentUnit": 4
   },
   "notebookName": "Ingest_data",
   "widgets": {}
  }
 },
 "nbformat": 4,
 "nbformat_minor": 0
}
